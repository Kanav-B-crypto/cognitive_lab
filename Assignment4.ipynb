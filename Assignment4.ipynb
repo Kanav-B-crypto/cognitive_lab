{
 "cells": [
  {
   "cell_type": "code",
   "execution_count": 47,
   "id": "d6ef9383-c122-4a76-9cef-386c010a56cd",
   "metadata": {},
   "outputs": [
    {
     "name": "stdout",
     "output_type": "stream",
     "text": [
      "[1 2 3]\n",
      "<class 'numpy.ndarray'>\n",
      "[[1 2 3]\n",
      " [4 5 6]]\n",
      "int32\n",
      "6\n",
      "2\n",
      "(2, 3)\n",
      "c :  [2]\n",
      "a [ 10  20  30 300 300]\n"
     ]
    }
   ],
   "source": [
    "import numpy as np\n",
    "\n",
    "arr_1d=np.array([1,2,3])\n",
    "print(arr_1d)\n",
    "print(type(arr_1d))\n",
    "arr_2d=np.array([[1,2,3],[4,5,6]]) # cant incerase size of numpy array but can change the values\n",
    "print(arr_2d)\n",
    "print(arr_2d.dtype)\n",
    "print(arr_2d.size)\n",
    "print(arr_2d.ndim)\n",
    "print(arr_2d.shape)\n",
    "c=arr_1d[1:2]\n",
    "print(\"c : \",c)\n",
    "a=np.array([10,20,30,40,50])\n",
    "a[3:5]=300\n",
    "print('a',a)"
   ]
  },
  {
   "cell_type": "code",
   "execution_count": 12,
   "id": "e52eac7f-e92e-49a9-8ca8-18ae84b0acac",
   "metadata": {},
   "outputs": [
    {
     "name": "stdout",
     "output_type": "stream",
     "text": [
      "[1 2 3 4 5]\n",
      "B :  [1 2 3 4 5]\n",
      "[3 4 5 6 7]\n",
      "[ 9 12 15 18 21]\n",
      "[ 4  6  7  9 10]\n"
     ]
    }
   ],
   "source": [
    "#Q1\n",
    "import numpy as np\n",
    "A=np.array([1,2,3,4,5])\n",
    "print(A)\n",
    "B=np.array([])\n",
    "B=A\n",
    "print(\"B : \",B)\n",
    "for i in range(0,5):\n",
    "    A[i]=A[i]+2\n",
    "print(A)\n",
    "\n",
    "for i in range(0,5):\n",
    "    A[i]=A[i]*3\n",
    "print(A)\n",
    "\n",
    "for i in range(0,5):\n",
    "    A[i]=A[i]/2\n",
    "print(A)\n"
   ]
  },
  {
   "cell_type": "code",
   "execution_count": 22,
   "id": "fa4da883-1deb-4cbb-9950-0fa39f7c1d47",
   "metadata": {},
   "outputs": [
    {
     "name": "stdout",
     "output_type": "stream",
     "text": [
      "[5 4 6 3 2 1]\n",
      "x: [1 2 3 4 5 1 2 1 1 1]\n",
      "In x most frequent element :  1\n",
      "The indice of x most frequent element :\n",
      "0\n",
      "5\n",
      "7\n",
      "8\n",
      "9\n"
     ]
    }
   ],
   "source": [
    "#Q2\n",
    "import numpy as np\n",
    "#a\n",
    "arr = np.array([1,2,3,6,4,5]) # arr=arr[::-1] for reverse fo only 1d\n",
    "arr=np.flip(arr)\n",
    "print(arr)\n",
    "\n",
    "#b\n",
    "def most_frequent(arr):\n",
    "    counts=np.bincount(arr) #counts the occurrences of each integer in the array and returns a frequency array\n",
    "    most_frequent=counts.argmax()\n",
    "    return most_frequent\n",
    "       \n",
    "x=np.array([1,2,3,4,5,1,2,1,1,1])\n",
    "print('x:',x)\n",
    "x_most_frequent=most_frequent(x)\n",
    "print('In x most frequent element : ',x_most_frequent)\n",
    "print('The indice of x most frequent element :')\n",
    "idx=0\n",
    "for i in x:\n",
    "    if(i==x_most_frequent):\n",
    "        print(idx)\n",
    "    idx=idx+1"
   ]
  },
  {
   "cell_type": "code",
   "execution_count": 38,
   "id": "c246559b-ddc6-4011-89cb-c9e80f4004d0",
   "metadata": {},
   "outputs": [
    {
     "name": "stdout",
     "output_type": "stream",
     "text": [
      "given arr:\n",
      " [[10 20 30]\n",
      " [40 50 60]\n",
      " [70 80 90]]\n",
      "20\n",
      "70\n"
     ]
    }
   ],
   "source": [
    "#3\n",
    "import numpy as np\n",
    "arr=np.array([[10,20,30],[40,50,60],[70,80,90]])\n",
    "print('given arr:\\n',arr)\n",
    "\n",
    "#a Access 1st row, 2nd column\n",
    "a=arr[0,1]\n",
    "print(a)\n",
    "\n",
    "#b Access 3rd row, 1st column\n",
    "b=arr[2,0]\n",
    "print(b)"
   ]
  },
  {
   "cell_type": "code",
   "execution_count": 97,
   "id": "c3f0af6c-c879-4f01-a1c2-31738ca38ecf",
   "metadata": {},
   "outputs": [
    {
     "name": "stdout",
     "output_type": "stream",
     "text": [
      "[ 10.    13.75  17.5   21.25  25.    28.75  32.5   36.25  40.    43.75\n",
      "  47.5   51.25  55.    58.75  62.5   66.25  70.    73.75  77.5   81.25\n",
      "  85.    88.75  92.5   96.25 100.  ]\n",
      "The dimension of array :  1\n",
      "The shape of array :  (25,)\n",
      "The total elements of array :  25\n",
      "The dataype of each element in array :  float64\n",
      "The total bytes consumed by array :  200\n",
      "Transpose of the array using reshape():\n",
      "[[ 10.  ]\n",
      " [ 13.75]\n",
      " [ 17.5 ]\n",
      " [ 21.25]\n",
      " [ 25.  ]\n",
      " [ 28.75]\n",
      " [ 32.5 ]\n",
      " [ 36.25]\n",
      " [ 40.  ]\n",
      " [ 43.75]\n",
      " [ 47.5 ]\n",
      " [ 51.25]\n",
      " [ 55.  ]\n",
      " [ 58.75]\n",
      " [ 62.5 ]\n",
      " [ 66.25]\n",
      " [ 70.  ]\n",
      " [ 73.75]\n",
      " [ 77.5 ]\n",
      " [ 81.25]\n",
      " [ 85.  ]\n",
      " [ 88.75]\n",
      " [ 92.5 ]\n",
      " [ 96.25]\n",
      " [100.  ]]\n",
      "Transpose of the array using T attribute:\n",
      "[ 10.    13.75  17.5   21.25  25.    28.75  32.5   36.25  40.    43.75\n",
      "  47.5   51.25  55.    58.75  62.5   66.25  70.    73.75  77.5   81.25\n",
      "  85.    88.75  92.5   96.25 100.  ]\n"
     ]
    }
   ],
   "source": [
    "#4\n",
    "import numpy as np\n",
    "kanav=np.linspace(10,100,25)\n",
    "print(kanav)\n",
    "print('The dimension of array : ',your_name.ndim)\n",
    "print('The shape of array : ',your_name.shape)\n",
    "print('The total elements of array : ',your_name.size)\n",
    "print('The dataype of each element in array : ',your_name.dtype)\n",
    "print('The total bytes consumed by array : ',your_name.nbytes)\n",
    "transpose_array=kanav.reshape(25, 1)\n",
    "print(f\"Transpose of the array using reshape():\\n{transpose_array}\")\n",
    "transpose_using_T=kanav.T\n",
    "print(f\"Transpose of the array using T attribute:\\n{transpose_using_T}\")"
   ]
  },
  {
   "cell_type": "code",
   "execution_count": 91,
   "id": "f5e44ee3-f9e0-4d30-8bad-f8d4d4cd75dc",
   "metadata": {},
   "outputs": [
    {
     "name": "stdout",
     "output_type": "stream",
     "text": [
      "Mean:  43.333333333333336\n",
      "Median:  37.5\n",
      "Max:  90\n",
      "Min:  10\n",
      "Unique Elements:  [10 15 20 30 35 40 50 60 70 80 90]\n",
      "4 rows 3 columns\n",
      "[[10 20 30]\n",
      " [40 50 60]\n",
      " [70 80 90]\n",
      " [15 20 35]]\n",
      "2 rows 3 columns\n",
      "[[10 20 30]\n",
      " [40 50 60]]\n"
     ]
    }
   ],
   "source": [
    "#5\n",
    "import numpy as np\n",
    "ucs420_kanav=np.array([\n",
    "                       [10,20,30,40],\n",
    "                       [50,60,70,80],\n",
    "                       [90, 15, 20, 35]\n",
    "])\n",
    "flat_array=ucs420_kanav.flatten() # convet to 1D array\n",
    "\n",
    "mean_val=np.mean(flat_array)\n",
    "median_val=np.median(flat_array)\n",
    "max_val=np.max(flat_array)\n",
    "min_val=np.min(flat_array)\n",
    "unique_elements=np.unique(flat_array)\n",
    "\n",
    "print(\"Mean: \",mean_val)\n",
    "print(\"Median: \",median_val)\n",
    "print(\"Max: \",max_val)\n",
    "print(\"Min: \",min_val)\n",
    "print(\"Unique Elements: \",unique_elements)\n",
    "\n",
    "reshaped_ucs420_kanav=np.reshape(ucs420_kanav,(4,3))\n",
    "print('4 rows 3 columns')\n",
    "print(reshaped_ucs420_kanav)\n",
    "\n",
    "resized_ucs420_kanav=np.resize(ucs420_kanav,(2,3))\n",
    "\n",
    "print('2 rows 3 columns')\n",
    "print(resized_ucs420_kanav)"
   ]
  },
  {
   "cell_type": "code",
   "execution_count": null,
   "id": "36548e80-403e-4f86-885b-01abae9abd75",
   "metadata": {},
   "outputs": [],
   "source": []
  }
 ],
 "metadata": {
  "kernelspec": {
   "display_name": "Python [conda env:base] *",
   "language": "python",
   "name": "conda-base-py"
  },
  "language_info": {
   "codemirror_mode": {
    "name": "ipython",
    "version": 3
   },
   "file_extension": ".py",
   "mimetype": "text/x-python",
   "name": "python",
   "nbconvert_exporter": "python",
   "pygments_lexer": "ipython3",
   "version": "3.12.7"
  }
 },
 "nbformat": 4,
 "nbformat_minor": 5
}
