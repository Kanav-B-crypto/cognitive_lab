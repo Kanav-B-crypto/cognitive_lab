{
 "cells": [
  {
   "cell_type": "code",
   "execution_count": 7,
   "id": "b6b54f16-2b6e-4321-ba09-1b6295f35cfc",
   "metadata": {},
   "outputs": [
    {
     "name": "stdout",
     "output_type": "stream",
     "text": [
      "[10, 20, 30, 40, 50, 60, 70, 80, 200, 300]\n",
      "[20, 40, 50, 60, 70, 80, 200, 300]\n",
      "[20, 40, 50, 60, 70, 80, 200, 300]\n",
      "[300, 200, 80, 70, 60, 50, 40, 20]\n"
     ]
    }
   ],
   "source": [
    "L=[10,20,30,40,50,60,70,80]\n",
    "L.append(200)\n",
    "L.append(300)\n",
    "print(L)\n",
    "L.remove(10)\n",
    "L.remove(30)\n",
    "print(L)\n",
    "L.sort()\n",
    "print(L)\n",
    "L.reverse()\n",
    "print(L)"
   ]
  },
  {
   "cell_type": "code",
   "execution_count": 27,
   "id": "e8cfc943-7c38-4d5c-ba2d-398772a2a339",
   "metadata": {},
   "outputs": [
    {
     "name": "stdout",
     "output_type": "stream",
     "text": [
      "Greatest element in T :  92\n",
      "Index of greatest element is :  5\n",
      "Lowest score in T :  45\n",
      "Count of lowest score is :  2\n",
      "[45, 58, 92, 89, 45.4, 76, 89.5, 45]\n"
     ]
    },
    {
     "name": "stdin",
     "output_type": "stream",
     "text": [
      "Enter score:  76\n"
     ]
    },
    {
     "name": "stdout",
     "output_type": "stream",
     "text": [
      "76  is present at index  2\n"
     ]
    }
   ],
   "source": [
    "T=(45, 89.5, 76, 45.4, 89, 92, 58, 45)\n",
    "x=-1\n",
    "for i in T:\n",
    "    if x<i:\n",
    "        x=i\n",
    "print(\"Greatest element in T : \",x)\n",
    "print(\"Index of greatest element is : \",T.index(x))\n",
    "y=1000\n",
    "for i in T:\n",
    "    if y>i:\n",
    "        y=i\n",
    "print(\"Lowest score in T : \",y)\n",
    "print(\"Count of lowest score is : \",T.count(y))\n",
    "reverse_list=list(reversed(T))\n",
    "print(reverse_list)\n",
    "n=int(input(\"Enter score: \"))\n",
    "flag=0\n",
    "for i in T:\n",
    "    if i==n:\n",
    "        flag=1\n",
    "        break\n",
    "if flag==0:\n",
    "    print(n,\" Not present\")\n",
    "else:\n",
    "    print(n,\" is present at index \",T.index(n))"
   ]
  },
  {
   "cell_type": "code",
   "execution_count": 40,
   "id": "423f5c1c-f545-4879-9bcf-32be91c9b819",
   "metadata": {},
   "outputs": [
    {
     "name": "stdout",
     "output_type": "stream",
     "text": [
      "[794, 488, 325, 815, 426, 785, 818, 368, 429, 648, 469, 248, 264, 192, 412, 775, 222, 190, 449, 447, 739, 316, 277, 844, 604, 311, 140, 313, 533, 385, 302, 148, 440, 357, 670, 455, 431, 345, 318, 512, 552, 296, 703, 894, 748, 758, 517, 513, 646, 237, 229, 599, 605, 769, 761, 579, 263, 395, 762, 712, 511, 848, 641, 166, 489, 610, 853, 371, 152, 198, 789, 826, 342, 276, 742, 509, 131, 684, 562, 251, 315, 550, 558, 230, 568, 376, 563, 806, 265, 282, 719, 288, 838, 485, 678, 876, 582, 861, 209, 421]\n",
      "Odd numbers\n",
      "325\n",
      "815\n",
      "785\n",
      "429\n",
      "469\n",
      "775\n",
      "449\n",
      "447\n",
      "739\n",
      "277\n",
      "311\n",
      "313\n",
      "533\n",
      "385\n",
      "357\n",
      "455\n",
      "431\n",
      "345\n",
      "703\n",
      "517\n",
      "513\n",
      "237\n",
      "229\n",
      "599\n",
      "605\n",
      "769\n",
      "761\n",
      "579\n",
      "263\n",
      "395\n",
      "511\n",
      "641\n",
      "489\n",
      "853\n",
      "371\n",
      "789\n",
      "509\n",
      "131\n",
      "251\n",
      "315\n",
      "563\n",
      "265\n",
      "719\n",
      "485\n",
      "861\n",
      "209\n",
      "421\n",
      "Total odd number is :  47\n",
      "Even numbers\n",
      "794\n",
      "488\n",
      "426\n",
      "818\n",
      "368\n",
      "648\n",
      "248\n",
      "264\n",
      "192\n",
      "412\n",
      "222\n",
      "190\n",
      "316\n",
      "844\n",
      "604\n",
      "140\n",
      "302\n",
      "148\n",
      "440\n",
      "670\n",
      "318\n",
      "512\n",
      "552\n",
      "296\n",
      "894\n",
      "748\n",
      "758\n",
      "646\n",
      "762\n",
      "712\n",
      "848\n",
      "166\n",
      "610\n",
      "152\n",
      "198\n",
      "826\n",
      "342\n",
      "276\n",
      "742\n",
      "684\n",
      "562\n",
      "550\n",
      "558\n",
      "230\n",
      "568\n",
      "376\n",
      "806\n",
      "282\n",
      "288\n",
      "838\n",
      "678\n",
      "876\n",
      "582\n",
      "Total odd number is :  53\n",
      "Prime numbers\n",
      "449\n",
      "739\n",
      "277\n",
      "311\n",
      "313\n",
      "431\n",
      "229\n",
      "599\n",
      "769\n",
      "761\n",
      "263\n",
      "641\n",
      "853\n",
      "509\n",
      "131\n",
      "251\n",
      "563\n",
      "719\n",
      "421\n",
      "Total prime number is : 19\n"
     ]
    }
   ],
   "source": [
    "import random as r\n",
    "A=range(100,901)\n",
    "B=r.sample(A,100)\n",
    "print(B)\n",
    "def isPrime(x):\n",
    "    for i in range(2,x):\n",
    "        if x%i==0:\n",
    "            return 0\n",
    "    return 1\n",
    "count_odd=0\n",
    "count_even=0\n",
    "count_prime=0\n",
    "print(\"Odd numbers\")\n",
    "for i in B:\n",
    "    if i%2!=0:\n",
    "        print(i)\n",
    "        count_odd+=1\n",
    "print(\"Total odd number is : \",count_odd)\n",
    "print(\"Even numbers\")\n",
    "for i in B:\n",
    "    if i%2==0:\n",
    "        print(i)\n",
    "        count_even+=1\n",
    "print(\"Total odd number is : \",count_even)\n",
    "print(\"Prime numbers\")\n",
    "for i in B:\n",
    "    if isPrime(i):\n",
    "        print(i)\n",
    "        count_prime+=1\n",
    "print(\"Total prime number is :\",count_prime)"
   ]
  },
  {
   "cell_type": "code",
   "execution_count": 6,
   "id": "98b7cbb2-5cd2-48ab-b9c3-4403b533b8f8",
   "metadata": {},
   "outputs": [
    {
     "name": "stdout",
     "output_type": "stream",
     "text": [
      "A U B =  {34, 45, 78, 23, 56, 90}\n",
      "scores that are common to both teams =  {90, 78}\n",
      "scores that are exclusive to team A {56, 34}\n",
      "scores that are exclusive to team B {45, 23}\n",
      "A is not subset of B\n"
     ]
    },
    {
     "name": "stdin",
     "output_type": "stream",
     "text": [
      "Enter element to remove from A  34\n"
     ]
    },
    {
     "name": "stdout",
     "output_type": "stream",
     "text": [
      "34 is removed\n"
     ]
    }
   ],
   "source": [
    "A={34, 56, 78, 90}\n",
    "B={78, 45, 90, 23} \n",
    "print(\"A U B = \",A.union(B))\n",
    "print(\"scores that are common to both teams = \",A&B)\n",
    "print(\"scores that are exclusive to team A\",A-B)\n",
    "print(\"scores that are exclusive to team B\",B-A)\n",
    "C=set([])\n",
    "if B-A==C:\n",
    "    print(\"A is subset of B\")\n",
    "else:\n",
    "    print(\"A is not subset of B\")\n",
    "n=int(input(\"Enter element to remove from A \"))\n",
    "if n in A:\n",
    "    A.discard(n)\n",
    "    print(f\"{n} is removed\")\n",
    "else:\n",
    "    print(f\"{n} is not present in set\")"
   ]
  },
  {
   "cell_type": "code",
   "execution_count": 16,
   "id": "99d427aa-8642-4c3f-a890-cf8796449766",
   "metadata": {},
   "outputs": [
    {
     "name": "stdout",
     "output_type": "stream",
     "text": [
      "{'name': 'Kelly', 'age': 25, 'salary': 8000, 'city': 'New york'}\n",
      "{'name': 'Kelly', 'age': 25, 'salary': 8000, 'location': 'New york'}\n"
     ]
    }
   ],
   "source": [
    "sample_dict={\n",
    "    \"name\": \"Kelly\",\n",
    "    \"age\":25,\n",
    "    \"salary\":8000,\n",
    "    \"city\": \"New york\"\n",
    "}\n",
    "print(sample_dict)\n",
    "sample_dict[\"location\"]=sample_dict.pop(\"city\")\n",
    "print(sample_dict)"
   ]
  },
  {
   "cell_type": "code",
   "execution_count": null,
   "id": "7e105548-dce8-48b7-bae5-d7b548210d32",
   "metadata": {},
   "outputs": [],
   "source": []
  }
 ],
 "metadata": {
  "kernelspec": {
   "display_name": "Python [conda env:base] *",
   "language": "python",
   "name": "conda-base-py"
  },
  "language_info": {
   "codemirror_mode": {
    "name": "ipython",
    "version": 3
   },
   "file_extension": ".py",
   "mimetype": "text/x-python",
   "name": "python",
   "nbconvert_exporter": "python",
   "pygments_lexer": "ipython3",
   "version": "3.12.7"
  }
 },
 "nbformat": 4,
 "nbformat_minor": 5
}
