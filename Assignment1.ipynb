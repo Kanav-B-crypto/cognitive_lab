{
 "cells": [
  {
   "cell_type": "code",
   "execution_count": 3,
   "id": "26922ca2-ef29-434e-b44d-bee05617e0be",
   "metadata": {},
   "outputs": [
    {
     "name": "stdout",
     "output_type": "stream",
     "text": [
      "Kanav\n",
      "Kanav\n",
      "Kanav\n"
     ]
    }
   ],
   "source": [
    "print(\"Kanav\")\n",
    "print(\"Kanav\")\n",
    "print(\"Kanav\")"
   ]
  },
  {
   "cell_type": "code",
   "execution_count": 5,
   "id": "154c0a04-8dba-473a-8767-94de249f5c23",
   "metadata": {},
   "outputs": [
    {
     "name": "stdout",
     "output_type": "stream",
     "text": [
      "6\n"
     ]
    }
   ],
   "source": [
    "a=1\n",
    "b=2\n",
    "c=3\n",
    "d=a+b+c\n",
    "print(d)"
   ]
  },
  {
   "cell_type": "code",
   "execution_count": 7,
   "id": "c410750e-d901-4e14-a33a-4f1b44413d9e",
   "metadata": {},
   "outputs": [
    {
     "name": "stdout",
     "output_type": "stream",
     "text": [
      "Kanav\n"
     ]
    }
   ],
   "source": [
    "a=\"Ka\"\n",
    "b=\"na\"\n",
    "c=\"v\"\n",
    "d=a+b+c\n",
    "print(d)"
   ]
  },
  {
   "cell_type": "code",
   "execution_count": 9,
   "id": "44690b60-ee39-45b8-b344-04b0e68c25f3",
   "metadata": {},
   "outputs": [
    {
     "name": "stdin",
     "output_type": "stream",
     "text": [
      "enter a 2\n",
      "enter b 3\n"
     ]
    },
    {
     "name": "stdout",
     "output_type": "stream",
     "text": [
      "23\n"
     ]
    }
   ],
   "source": [
    "a=input(\"enter a\")\n",
    "b=input(\"enter b\")\n",
    "print(a+b)"
   ]
  },
  {
   "cell_type": "code",
   "execution_count": 3,
   "id": "cf14fc23-b580-494d-95f8-5380bcc75d69",
   "metadata": {},
   "outputs": [
    {
     "name": "stdin",
     "output_type": "stream",
     "text": [
      "enter n 7\n"
     ]
    },
    {
     "name": "stdout",
     "output_type": "stream",
     "text": [
      "7 * 1 = 7\n",
      "7 * 2 = 14\n",
      "7 * 3 = 21\n",
      "7 * 4 = 28\n",
      "7 * 5 = 35\n",
      "7 * 6 = 42\n",
      "7 * 7 = 49\n",
      "7 * 8 = 56\n",
      "7 * 9 = 63\n",
      "7 * 10 = 70\n",
      "28\n"
     ]
    }
   ],
   "source": [
    "n=int(input(\"enter n\"))\n",
    "for i in range(1,11):\n",
    "    print(n,\"*\",i,\"=\",n*i)\n",
    "print(sum(range(1,n+1)))"
   ]
  },
  {
   "cell_type": "code",
   "execution_count": 1,
   "id": "7e51087f-ebaa-4a8b-80cd-3df8ecfbb338",
   "metadata": {},
   "outputs": [
    {
     "name": "stdout",
     "output_type": "stream",
     "text": [
      "55\n"
     ]
    }
   ],
   "source": [
    "print(sum(range(1,11)))"
   ]
  },
  {
   "cell_type": "code",
   "execution_count": 7,
   "id": "9fd398bf-dde3-4420-b7e0-a6f4aa625708",
   "metadata": {},
   "outputs": [
    {
     "name": "stdin",
     "output_type": "stream",
     "text": [
      "Enter a 1\n",
      "Enter b 2\n",
      "Enter c 3\n"
     ]
    },
    {
     "name": "stdout",
     "output_type": "stream",
     "text": [
      "3 is greatest\n"
     ]
    }
   ],
   "source": [
    "a=int(input(\"Enter a\"))\n",
    "b=int(input(\"Enter b\"))\n",
    "c=int(input(\"Enter c\"))\n",
    "if a>b and a>c:\n",
    "    print(a,\"is greatest\")\n",
    "elif b>a and b>c:\n",
    "    print(b,\"is greatest\")\n",
    "else:\n",
    "    print(c,\"is greatest\")"
   ]
  },
  {
   "cell_type": "code",
   "execution_count": 11,
   "id": "9b99a7df-0a1d-4cd9-90c4-8ffc2bc33dcf",
   "metadata": {},
   "outputs": [
    {
     "name": "stdin",
     "output_type": "stream",
     "text": [
      "Enter n 63\n"
     ]
    },
    {
     "name": "stdout",
     "output_type": "stream",
     "text": [
      "63\n"
     ]
    }
   ],
   "source": [
    "n=int(input(\"Enter n\"))\n",
    "s=0\n",
    "for i in range(1,n+1):\n",
    "    if i%7==0 and i%9==0:\n",
    "        s=s+i\n",
    "print(s)"
   ]
  },
  {
   "cell_type": "code",
   "execution_count": 13,
   "id": "273795fb-e4dc-4c84-adf7-5c2fe3be7b3c",
   "metadata": {},
   "outputs": [
    {
     "data": {
      "text/plain": [
       "3"
      ]
     },
     "execution_count": 13,
     "metadata": {},
     "output_type": "execute_result"
    }
   ],
   "source": [
    "a=1\n",
    "b=2\n",
    "c=3\n",
    "max(a,b,c)"
   ]
  },
  {
   "cell_type": "code",
   "execution_count": 19,
   "id": "6e2dad54-c65f-427b-b353-a96b6358dda5",
   "metadata": {},
   "outputs": [
    {
     "name": "stdin",
     "output_type": "stream",
     "text": [
      "Enter n 10\n"
     ]
    },
    {
     "name": "stdout",
     "output_type": "stream",
     "text": [
      "17\n"
     ]
    }
   ],
   "source": [
    "def Prime(x):\n",
    "    f=0\n",
    "    for i in range(2,x):\n",
    "        if(x%i==0):\n",
    "            return 0\n",
    "    return x\n",
    "\n",
    "n=int(input(\"Enter n\"))\n",
    "s=0\n",
    "for i in range(2,n+1):\n",
    "    s=s+Prime(i)\n",
    "print(s)\n",
    "\n"
   ]
  },
  {
   "cell_type": "code",
   "execution_count": 27,
   "id": "3e302783-d087-48a5-9a4b-194e764e88b9",
   "metadata": {},
   "outputs": [
    {
     "name": "stdout",
     "output_type": "stream",
     "text": [
      "1+1 is 2\n"
     ]
    }
   ],
   "source": [
    "import math as m\n",
    "a=2\n",
    "b=\"1+1\"\n",
    "print(\"%s is %d\" %(b,a))"
   ]
  },
  {
   "cell_type": "code",
   "execution_count": 29,
   "id": "0998c5e3-dc7e-48a4-b6b5-174f3e428223",
   "metadata": {},
   "outputs": [
    {
     "name": "stdout",
     "output_type": "stream",
     "text": [
      "Indian   Army\n",
      "13\n",
      "  Indian   Army  \n"
     ]
    }
   ],
   "source": [
    "var = \"  Indian   Army  \"\n",
    "print(var.strip())\n",
    "print(len(var.strip()))\n",
    "print(var)"
   ]
  },
  {
   "cell_type": "code",
   "execution_count": 31,
   "id": "a3ee40fb-a63c-4be3-9c69-ba06db446af5",
   "metadata": {},
   "outputs": [
    {
     "name": "stdout",
     "output_type": "stream",
     "text": [
      "ymrA naidnI\n"
     ]
    }
   ],
   "source": [
    "var=\"Indian Army\"\n",
    "print(var[::-1])"
   ]
  },
  {
   "cell_type": "code",
   "execution_count": 33,
   "id": "cb5995f7-c831-4312-9586-4c2432a22b32",
   "metadata": {},
   "outputs": [
    {
     "name": "stdout",
     "output_type": "stream",
     "text": [
      "False\n"
     ]
    }
   ],
   "source": [
    "var=\"Kanav\"\n",
    "print(var==var[::-1])"
   ]
  },
  {
   "cell_type": "code",
   "execution_count": 35,
   "id": "5c23cf55-5299-4f4d-bc84-574e87c1556a",
   "metadata": {},
   "outputs": [
    {
     "data": {
      "text/plain": [
       "False"
      ]
     },
     "execution_count": 35,
     "metadata": {},
     "output_type": "execute_result"
    }
   ],
   "source": [
    "1==2"
   ]
  },
  {
   "cell_type": "code",
   "execution_count": 8,
   "id": "d25ef652-a40b-4513-8449-0a10086120c5",
   "metadata": {},
   "outputs": [
    {
     "name": "stdout",
     "output_type": "stream",
     "text": [
      "0.5118076313804177\n",
      "0.4465\n",
      "2\n"
     ]
    }
   ],
   "source": [
    "import random as r\n",
    "print(r.random())\n",
    "print(round(r.random(),4))\n",
    "print(r.randint(1,100))\n"
   ]
  },
  {
   "cell_type": "code",
   "execution_count": 16,
   "id": "ad6a7ce2-b3b7-4f86-b3c4-d76daddb7b28",
   "metadata": {},
   "outputs": [
    {
     "name": "stdout",
     "output_type": "stream",
     "text": [
      "[1, 2, 3, 4, 5, 6, 7, 8, 9, 10]\n",
      "[10, 8]\n"
     ]
    }
   ],
   "source": [
    "import random as r\n",
    "A=[1,2,3,4,5,6,7,8,9,10]\n",
    "print(A)\n",
    "print(r.sample(A,2))"
   ]
  },
  {
   "cell_type": "code",
   "execution_count": 20,
   "id": "835f2a9f-684c-4ba2-9e48-cd64645f15e0",
   "metadata": {},
   "outputs": [
    {
     "name": "stdout",
     "output_type": "stream",
     "text": [
      "String---> abcdefghijklmnopqrstuvwxyzABCDEFGHIJKLMNOPQRSTUVWXYZ\n",
      "['a', 'i', 'z', 'Y', 'b', 'G']\n",
      "aizYbG\n",
      "a+i+z+Y+b+G\n",
      "a*i*z*Y*b*G\n"
     ]
    }
   ],
   "source": [
    "import string as s\n",
    "import random as r\n",
    "print(\"String--->\",s.ascii_letters)\n",
    "\n",
    "passwd=r.sample(s.ascii_letters,6)\n",
    "print(passwd)\n",
    "passwd1=\"\".join(passwd)\n",
    "passwd2=\"+\".join(passwd)\n",
    "passwd3=\"*\".join(passwd)\n",
    "print(passwd1)\n",
    "print(passwd2)\n",
    "print(passwd3)\n"
   ]
  },
  {
   "cell_type": "code",
   "execution_count": 4,
   "id": "3834f0be-9806-4672-80a3-26bcf02a6e96",
   "metadata": {},
   "outputs": [
    {
     "name": "stdout",
     "output_type": "stream",
     "text": [
      "Mix---> abcdefghijklmnopqrstuvwxyzABCDEFGHIJKLMNOPQRSTUVWXYZ0123456789\n",
      "['K', 'J', 'j', '4', 'I']\n",
      "KJj4I\n"
     ]
    }
   ],
   "source": [
    "import string as s\n",
    "import random as r\n",
    "\n",
    "print(\"Mix--->\",s.ascii_letters+s.digits)\n",
    "mixpasswd=r.sample(s.ascii_letters+s.digits,5)\n",
    "print(mixpasswd)\n",
    "mixpasswd1=\"\".join(mixpasswd)\n",
    "print(mixpasswd1)"
   ]
  },
  {
   "cell_type": "code",
   "execution_count": null,
   "id": "c4cbc2c2-ecfd-42bb-9885-f79451d6e195",
   "metadata": {},
   "outputs": [],
   "source": []
  }
 ],
 "metadata": {
  "kernelspec": {
   "display_name": "Python [conda env:base] *",
   "language": "python",
   "name": "conda-base-py"
  },
  "language_info": {
   "codemirror_mode": {
    "name": "ipython",
    "version": 3
   },
   "file_extension": ".py",
   "mimetype": "text/x-python",
   "name": "python",
   "nbconvert_exporter": "python",
   "pygments_lexer": "ipython3",
   "version": "3.12.7"
  }
 },
 "nbformat": 4,
 "nbformat_minor": 5
}
